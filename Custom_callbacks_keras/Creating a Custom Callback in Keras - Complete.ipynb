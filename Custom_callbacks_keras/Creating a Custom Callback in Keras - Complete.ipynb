{
 "cells": [
  {
   "cell_type": "markdown",
   "metadata": {},
   "source": [
    "# Create a Custom Callback in Keras"
   ]
  },
  {
   "cell_type": "markdown",
   "metadata": {},
   "source": [
    "# Task 1: Importing Libraries"
   ]
  },
  {
   "cell_type": "code",
   "execution_count": null,
   "metadata": {},
   "outputs": [],
   "source": [
    "%matplotlib notebook\n",
    "\n",
    "import tensorflow as tf\n",
    "import numpy as np\n",
    "import os\n",
    "import matplotlib.pyplot as plt\n",
    "\n",
    "print('TensorFlow version:', tf.__version__)"
   ]
  },
  {
   "cell_type": "markdown",
   "metadata": {},
   "source": [
    "# Task 2: Importing and Preprocessing Data"
   ]
  },
  {
   "cell_type": "code",
   "execution_count": null,
   "metadata": {},
   "outputs": [],
   "source": [
    "(x_train, y_train), (x_test, y_test) = tf.keras.datasets.mnist.load_data()\n",
    "\n",
    "x_train = np.reshape(x_train, (60000, 784))/255.\n",
    "x_test = np.reshape(x_test, (10000, 784))/255.\n",
    "\n",
    "y_train = tf.keras.utils.to_categorical(y_train)\n",
    "y_test = tf.keras.utils.to_categorical(y_test)"
   ]
  },
  {
   "cell_type": "markdown",
   "metadata": {},
   "source": [
    "# Task 3: Creating the Model"
   ]
  },
  {
   "cell_type": "code",
   "execution_count": null,
   "metadata": {},
   "outputs": [],
   "source": [
    "model = tf.keras.models.Sequential([\n",
    "    tf.keras.layers.Dense(16, activation='relu', input_shape=(784,)),\n",
    "    tf.keras.layers.Dense(10, activation='softmax')\n",
    "])\n",
    "\n",
    "opt = tf.keras.optimizers.SGD(learning_rate=0.02)\n",
    "model.compile(loss='categorical_crossentropy', optimizer=opt, metrics=['accuracy'])\n",
    "model.summary()"
   ]
  },
  {
   "cell_type": "markdown",
   "metadata": {},
   "source": [
    "# Tasks 4 & 5: Creating the Callback"
   ]
  },
  {
   "cell_type": "code",
   "execution_count": null,
   "metadata": {},
   "outputs": [],
   "source": [
    "class CustomCallback(tf.keras.callbacks.Callback):\n",
    "    \n",
    "    def __init__(self, fraction):\n",
    "        super(CustomCallback, self).__init__()\n",
    "        \n",
    "        self.fraction = fraction\n",
    "        self.train_a = []\n",
    "        self.val_a = []\n",
    "        \n",
    "        with open('log.txt', 'w') as f:\n",
    "            f.write('Start of log\\n')\n",
    "        \n",
    "        self.fig = plt.figure(figsize=(4, 3))\n",
    "        self.ax = plt.subplot(1, 1, 1)\n",
    "        plt.ion()\n",
    "    \n",
    "    def on_train_begin(self, logs=None):\n",
    "        self.fig.show()\n",
    "        self.fig.canvas.draw()\n",
    "    \n",
    "    def on_train_end(self, logs=None):\n",
    "        with open('log.txt', 'a') as f:\n",
    "            f.write('End of log\\n')\n",
    "    \n",
    "    def on_epoch_begin(self, epoch, logs=None):\n",
    "        lr = self.fraction * tf.keras.backend.get_value(self.model.optimizer.lr)\n",
    "        tf.keras.backend.set_value(self.model.optimizer.lr, lr)\n",
    "        with open('log.txt', 'a') as f:\n",
    "            f.write('Epoch:{:02d}, Learning Rate:{:.4f}, '.format(epoch, lr))\n",
    "        \n",
    "    def on_epoch_end(self, epoch, logs=None):\n",
    "        val_acc = logs.get('val_accuracy')\n",
    "        train_acc = logs.get('accuracy')\n",
    "        \n",
    "        self.train_a.append(train_acc)\n",
    "        self.val_a.append(val_acc)\n",
    "        \n",
    "        with open('log.txt', 'a') as f:\n",
    "            f.write('Train Acc:{:.3f}, Val Acc:{:.3f}\\n'.format(train_acc , val_acc))\n",
    "        \n",
    "        self.ax.clear()\n",
    "        self.ax.plot(range(epoch + 1), self.train_a, label='Training Acc')\n",
    "        self.ax.plot(range(epoch + 1), self.val_a, label='Validation Acc')\n",
    "        self.ax.set_xlabel('Epochs')\n",
    "        self.ax.set_ylabel('Accuracy')\n",
    "        self.ax.legend()\n",
    "        self.fig.canvas.draw()"
   ]
  },
  {
   "cell_type": "markdown",
   "metadata": {},
   "source": [
    "# Task 6: Training the Model"
   ]
  },
  {
   "cell_type": "code",
   "execution_count": null,
   "metadata": {},
   "outputs": [],
   "source": [
    "cc = CustomCallback(fraction=0.9)"
   ]
  },
  {
   "cell_type": "code",
   "execution_count": null,
   "metadata": {},
   "outputs": [],
   "source": [
    "h = model.fit(\n",
    "    x_train, y_train,\n",
    "    validation_data=(x_test, y_test),\n",
    "    epochs=20, verbose=False,\n",
    "    callbacks=[cc]\n",
    ")"
   ]
  }
 ],
 "metadata": {
  "kernelspec": {
   "display_name": "Python 3",
   "language": "python",
   "name": "python3"
  },
  "language_info": {
   "codemirror_mode": {
    "name": "ipython",
    "version": 3
   },
   "file_extension": ".py",
   "mimetype": "text/x-python",
   "name": "python",
   "nbconvert_exporter": "python",
   "pygments_lexer": "ipython3",
   "version": "3.6.8"
  }
 },
 "nbformat": 4,
 "nbformat_minor": 2
}
